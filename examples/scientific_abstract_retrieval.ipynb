{
 "cells": [
  {
   "cell_type": "markdown",
   "metadata": {},
   "source": [
    "### Extract scientific abstracts\n",
    "Dataset is from the \"A typology of scientific breakthrough\" paper"
   ]
  },
  {
   "cell_type": "code",
   "execution_count": 114,
   "metadata": {},
   "outputs": [],
   "source": [
    "import numpy as np\n",
    "import pandas as pd\n",
    "from bs4 import BeautifulSoup  \n",
    "from tqdm import tqdm\n",
    "import requests\n",
    "import time\n",
    "import re"
   ]
  },
  {
   "cell_type": "code",
   "execution_count": 189,
   "metadata": {},
   "outputs": [
    {
     "name": "stderr",
     "output_type": "stream",
     "text": [
      "100%|██████████| 335/335 [00:17<00:00, 18.70it/s]\n"
     ]
    }
   ],
   "source": [
    "df = pd.read_excel('./TypologyOfBreakthroughs_dataset.xlsx')\n",
    "\n",
    "pubmed_urls = []\n",
    "pubmed_responses = []\n",
    "abstracts = ['']*len(df)\n",
    "\n",
    "\n",
    "#pubmed search based approach\n",
    "for index,row in df.iterrows():\n",
    "    doi = row['DOI']\n",
    "    pubmed_url = f'https://pubmed.ncbi.nlm.nih.gov/?term={doi}'\n",
    "    pubmed_urls.append(pubmed_url)\n",
    "\n",
    "\n",
    "for url in tqdm(pubmed_urls):\n",
    "    pubmed_response = requests.get(url)\n",
    "    pubmed_responses.append(pubmed_response)\n",
    "    time.sleep(0.5)\n",
    "\n",
    "\n",
    "for i in tqdm(range(len(pubmed_responses))): \n",
    "    soup = BeautifulSoup(pubmed_responses[i].content, 'html.parser')\n",
    "    web_title = soup.title.string\n",
    "    if web_title[:2] == '10':\n",
    "        abstracts[i] = 'NA'\n",
    "        continue\n",
    "    abstract = soup.find('div', class_='abstract-content selected')\n",
    "    if abstract is None:\n",
    "        abstracts[i] = 'NA'\n",
    "        continue\n",
    "    cleaned_text = re.sub(r'\\s+', ' ', abstract.text).strip()\n",
    "    abstracts[i] = cleaned_text\n",
    "\n",
    "\n",
    "df['Abstract'] = abstracts\n",
    "df.to_csv('TypologyOfBreakthroughs_dataset_with_abstracts.csv', index=False)"
   ]
  }
 ],
 "metadata": {
  "kernelspec": {
   "display_name": "llm-cxr",
   "language": "python",
   "name": "python3"
  },
  "language_info": {
   "codemirror_mode": {
    "name": "ipython",
    "version": 3
   },
   "file_extension": ".py",
   "mimetype": "text/x-python",
   "name": "python",
   "nbconvert_exporter": "python",
   "pygments_lexer": "ipython3",
   "version": "3.10.13"
  }
 },
 "nbformat": 4,
 "nbformat_minor": 2
}
